{
 "cells": [
  {
   "cell_type": "markdown",
   "metadata": {},
   "source": [
    "Recommender model notes"
   ]
  },
  {
   "cell_type": "markdown",
   "metadata": {},
   "source": [
    "Questions to be answered\n",
    "a) What is LightFM?\n",
    "b) Do we have feature importances/ partial dependendence plots with LightFM\n",
    "c) Do we need training test separate datasets in case of unsupervised model?\n",
    "d) Alternative methodologies available to develop model along with pros and cons\n",
    "e) Possible issues with LightFM\n",
    "f) What feature transformations/hyper parameters are best for LightFM"
   ]
  },
  {
   "cell_type": "markdown",
   "metadata": {},
   "source": [
    "Hybrid recommender system is a special type of recommender system that combines both content and collaborative filtering method. Combining collaborative filtering and content-based filtering could be more effective in some cases. Hybrid approaches can be implemented in several ways: by making content-based and collaborative-based predictions separately and then combining them; by adding content-based capabilities to a collaborative-based approach (and vice versa). "
   ]
  },
  {
   "cell_type": "markdown",
   "metadata": {},
   "source": [
    "a) Detailed discussion of Light FM in this Kaggle notebook along with advantages and process:\n",
    "https://www.kaggle.com/bond0071/lightfm-hybrid-recommendation-system\n",
    "https://arxiv.org/pdf/1507.08439.pdf\n",
    "\n",
    "Other good reads:\n",
    "https://towardsdatascience.com/recommendation-system-in-python-lightfm-61c85010ce17"
   ]
  },
  {
   "cell_type": "markdown",
   "metadata": {},
   "source": [
    "Credits: https://github.com/kapadias/mediumposts/blob/master/recommender/published_notebooks/recommendation_python_lightfm.ipynb\n",
    "\n"
   ]
  },
  {
   "cell_type": "code",
   "execution_count": 1,
   "metadata": {
    "ExecuteTime": {
     "end_time": "2021-02-09T21:11:56.952948Z",
     "start_time": "2021-02-09T21:11:56.936974Z"
    }
   },
   "outputs": [],
   "source": [
    "# !pip install lightfm --user"
   ]
  },
  {
   "cell_type": "code",
   "execution_count": 2,
   "metadata": {
    "ExecuteTime": {
     "end_time": "2021-02-09T21:11:56.967982Z",
     "start_time": "2021-02-09T21:11:56.953941Z"
    }
   },
   "outputs": [],
   "source": [
    "# !pip install skopt --user"
   ]
  },
  {
   "cell_type": "code",
   "execution_count": 3,
   "metadata": {
    "ExecuteTime": {
     "end_time": "2021-02-09T21:11:58.767538Z",
     "start_time": "2021-02-09T21:11:56.970975Z"
    }
   },
   "outputs": [
    {
     "name": "stderr",
     "output_type": "stream",
     "text": [
      "C:\\Users\\aditi\\AppData\\Roaming\\Python\\Python38\\site-packages\\lightfm\\_lightfm_fast.py:9: UserWarning: LightFM was compiled without OpenMP support. Only a single thread will be used.\n",
      "  warnings.warn(\n"
     ]
    }
   ],
   "source": [
    "\n",
    "# import dependent libraries\n",
    "import pandas as pd\n",
    "import os\n",
    "from scipy.sparse import csr_matrix\n",
    "import numpy as np\n",
    "from IPython.display import display_html\n",
    "import warnings\n",
    "\n",
    "import matplotlib.pyplot as plt\n",
    "from matplotlib.gridspec import GridSpec\n",
    "import seaborn as sns\n",
    "%matplotlib inline\n",
    "\n",
    "from lightfm.cross_validation import random_train_test_split\n",
    "from lightfm.evaluation import auc_score, precision_at_k, recall_at_k\n",
    "from lightfm import LightFM\n",
    "# from skopt import forest_minimize\n",
    "\n",
    "def display_side_by_side(*args):\n",
    "    html_str = ''\n",
    "    for df in args:\n",
    "        html_str += df.to_html()\n",
    "    display_html(html_str.replace(\n",
    "        'table', 'table style=\"display:inline\"'), raw=True)\n",
    "\n",
    "\n",
    "# update the working directory to the root of the project\n",
    "os.chdir('..')\n",
    "warnings.filterwarnings(\"ignore\")"
   ]
  },
  {
   "cell_type": "code",
   "execution_count": 4,
   "metadata": {
    "ExecuteTime": {
     "end_time": "2021-02-09T21:11:58.783553Z",
     "start_time": "2021-02-09T21:11:58.768562Z"
    }
   },
   "outputs": [],
   "source": [
    "from IPython.core.interactiveshell import InteractiveShell\n",
    "InteractiveShell.ast_node_interactivity = \"all\""
   ]
  },
  {
   "cell_type": "code",
   "execution_count": 5,
   "metadata": {
    "ExecuteTime": {
     "end_time": "2021-02-09T21:11:58.814758Z",
     "start_time": "2021-02-09T21:11:58.787540Z"
    }
   },
   "outputs": [
    {
     "data": {
      "text/plain": [
       "'C:\\\\Users\\\\aditi\\\\OneDrive\\\\Desktop\\\\ALL STUDY\\\\Kaggle'"
      ]
     },
     "execution_count": 5,
     "metadata": {},
     "output_type": "execute_result"
    }
   ],
   "source": [
    "os.getcwd()"
   ]
  },
  {
   "cell_type": "code",
   "execution_count": 6,
   "metadata": {
    "ExecuteTime": {
     "end_time": "2021-02-09T21:13:19.788517Z",
     "start_time": "2021-02-09T21:11:58.817747Z"
    }
   },
   "outputs": [
    {
     "name": "stdout",
     "output_type": "stream",
     "text": [
      "Wall time: 1min 20s\n"
     ]
    }
   ],
   "source": [
    "%%time\n",
    "books_metadata = pd.read_json('./RecommenderModel/Data/goodreads_books_poetry.json', lines=True)\n",
    "interactions = pd.read_json('./RecommenderModel/Data/goodreads_interactions_poetry.json', lines=True)"
   ]
  },
  {
   "cell_type": "code",
   "execution_count": 7,
   "metadata": {
    "ExecuteTime": {
     "end_time": "2021-02-09T21:13:20.006775Z",
     "start_time": "2021-02-09T21:13:19.794520Z"
    }
   },
   "outputs": [
    {
     "data": {
      "text/plain": [
       "array(['isbn', 'text_reviews_count', 'series', 'country_code',\n",
       "       'language_code', 'popular_shelves', 'asin', 'is_ebook',\n",
       "       'average_rating', 'kindle_asin', 'similar_books', 'description',\n",
       "       'format', 'link', 'authors', 'publisher', 'num_pages',\n",
       "       'publication_day', 'isbn13', 'publication_month',\n",
       "       'edition_information', 'publication_year', 'url', 'image_url',\n",
       "       'book_id', 'ratings_count', 'work_id', 'title',\n",
       "       'title_without_series'], dtype=object)"
      ]
     },
     "execution_count": 7,
     "metadata": {},
     "output_type": "execute_result"
    },
    {
     "data": {
      "text/html": [
       "<div>\n",
       "<style scoped>\n",
       "    .dataframe tbody tr th:only-of-type {\n",
       "        vertical-align: middle;\n",
       "    }\n",
       "\n",
       "    .dataframe tbody tr th {\n",
       "        vertical-align: top;\n",
       "    }\n",
       "\n",
       "    .dataframe thead th {\n",
       "        text-align: right;\n",
       "    }\n",
       "</style>\n",
       "<table border=\"1\" class=\"dataframe\">\n",
       "  <thead>\n",
       "    <tr style=\"text-align: right;\">\n",
       "      <th></th>\n",
       "      <th>isbn</th>\n",
       "      <th>text_reviews_count</th>\n",
       "      <th>series</th>\n",
       "      <th>country_code</th>\n",
       "      <th>language_code</th>\n",
       "      <th>popular_shelves</th>\n",
       "      <th>asin</th>\n",
       "      <th>is_ebook</th>\n",
       "      <th>average_rating</th>\n",
       "      <th>kindle_asin</th>\n",
       "      <th>...</th>\n",
       "      <th>publication_month</th>\n",
       "      <th>edition_information</th>\n",
       "      <th>publication_year</th>\n",
       "      <th>url</th>\n",
       "      <th>image_url</th>\n",
       "      <th>book_id</th>\n",
       "      <th>ratings_count</th>\n",
       "      <th>work_id</th>\n",
       "      <th>title</th>\n",
       "      <th>title_without_series</th>\n",
       "    </tr>\n",
       "  </thead>\n",
       "  <tbody>\n",
       "    <tr>\n",
       "      <th>17292</th>\n",
       "      <td>080706887X</td>\n",
       "      <td>111</td>\n",
       "      <td>[]</td>\n",
       "      <td>US</td>\n",
       "      <td>eng</td>\n",
       "      <td>[{'count': '1183', 'name': 'to-read'}, {'count...</td>\n",
       "      <td></td>\n",
       "      <td>false</td>\n",
       "      <td>4.58</td>\n",
       "      <td>B00BVJHM14</td>\n",
       "      <td>...</td>\n",
       "      <td></td>\n",
       "      <td></td>\n",
       "      <td></td>\n",
       "      <td>https://www.goodreads.com/book/show/65350.New_...</td>\n",
       "      <td>https://s.gr-assets.com/assets/nophoto/book/11...</td>\n",
       "      <td>65350</td>\n",
       "      <td>2133</td>\n",
       "      <td>6398751</td>\n",
       "      <td>New and Selected Poems, Vol. 2</td>\n",
       "      <td>New and Selected Poems, Vol. 2</td>\n",
       "    </tr>\n",
       "    <tr>\n",
       "      <th>1892</th>\n",
       "      <td>0942996046</td>\n",
       "      <td>2</td>\n",
       "      <td>[]</td>\n",
       "      <td>US</td>\n",
       "      <td></td>\n",
       "      <td>[{'count': '11', 'name': 'to-read'}, {'count':...</td>\n",
       "      <td></td>\n",
       "      <td>false</td>\n",
       "      <td>4.38</td>\n",
       "      <td></td>\n",
       "      <td>...</td>\n",
       "      <td>1</td>\n",
       "      <td></td>\n",
       "      <td>1986</td>\n",
       "      <td>https://www.goodreads.com/book/show/1330786.Th...</td>\n",
       "      <td>https://s.gr-assets.com/assets/nophoto/book/11...</td>\n",
       "      <td>1330786</td>\n",
       "      <td>8</td>\n",
       "      <td>1320276</td>\n",
       "      <td>The Indian Never Had a Horse and Other Poems</td>\n",
       "      <td>The Indian Never Had a Horse and Other Poems</td>\n",
       "    </tr>\n",
       "  </tbody>\n",
       "</table>\n",
       "<p>2 rows × 29 columns</p>\n",
       "</div>"
      ],
      "text/plain": [
       "             isbn  text_reviews_count series country_code language_code  \\\n",
       "17292  080706887X                 111     []           US           eng   \n",
       "1892   0942996046                   2     []           US                 \n",
       "\n",
       "                                         popular_shelves asin is_ebook  \\\n",
       "17292  [{'count': '1183', 'name': 'to-read'}, {'count...         false   \n",
       "1892   [{'count': '11', 'name': 'to-read'}, {'count':...         false   \n",
       "\n",
       "       average_rating kindle_asin  ... publication_month edition_information  \\\n",
       "17292            4.58  B00BVJHM14  ...                                         \n",
       "1892             4.38              ...                 1                       \n",
       "\n",
       "      publication_year                                                url  \\\n",
       "17292                   https://www.goodreads.com/book/show/65350.New_...   \n",
       "1892              1986  https://www.goodreads.com/book/show/1330786.Th...   \n",
       "\n",
       "                                               image_url  book_id  \\\n",
       "17292  https://s.gr-assets.com/assets/nophoto/book/11...    65350   \n",
       "1892   https://s.gr-assets.com/assets/nophoto/book/11...  1330786   \n",
       "\n",
       "      ratings_count  work_id                                         title  \\\n",
       "17292          2133  6398751                New and Selected Poems, Vol. 2   \n",
       "1892              8  1320276  The Indian Never Had a Horse and Other Poems   \n",
       "\n",
       "                               title_without_series  \n",
       "17292                New and Selected Poems, Vol. 2  \n",
       "1892   The Indian Never Had a Horse and Other Poems  \n",
       "\n",
       "[2 rows x 29 columns]"
      ]
     },
     "execution_count": 7,
     "metadata": {},
     "output_type": "execute_result"
    },
    {
     "data": {
      "text/plain": [
       "(36514, 29)"
      ]
     },
     "execution_count": 7,
     "metadata": {},
     "output_type": "execute_result"
    }
   ],
   "source": [
    "books_metadata.columns.values\n",
    "books_metadata.sample(2)\n",
    "books_metadata.shape"
   ]
  },
  {
   "cell_type": "code",
   "execution_count": 8,
   "metadata": {
    "ExecuteTime": {
     "end_time": "2021-02-09T21:13:20.068914Z",
     "start_time": "2021-02-09T21:13:20.011781Z"
    }
   },
   "outputs": [
    {
     "data": {
      "text/html": [
       "<div>\n",
       "<style scoped>\n",
       "    .dataframe tbody tr th:only-of-type {\n",
       "        vertical-align: middle;\n",
       "    }\n",
       "\n",
       "    .dataframe tbody tr th {\n",
       "        vertical-align: top;\n",
       "    }\n",
       "\n",
       "    .dataframe thead th {\n",
       "        text-align: right;\n",
       "    }\n",
       "</style>\n",
       "<table border=\"1\" class=\"dataframe\">\n",
       "  <thead>\n",
       "    <tr style=\"text-align: right;\">\n",
       "      <th></th>\n",
       "      <th>book_id</th>\n",
       "      <th>average_rating</th>\n",
       "      <th>is_ebook</th>\n",
       "      <th>num_pages</th>\n",
       "      <th>publication_year</th>\n",
       "      <th>ratings_count</th>\n",
       "      <th>language_code</th>\n",
       "    </tr>\n",
       "  </thead>\n",
       "  <tbody>\n",
       "    <tr>\n",
       "      <th>21845</th>\n",
       "      <td>1429465</td>\n",
       "      <td>4.09</td>\n",
       "      <td>false</td>\n",
       "      <td>87</td>\n",
       "      <td>2004</td>\n",
       "      <td>22</td>\n",
       "      <td></td>\n",
       "    </tr>\n",
       "    <tr>\n",
       "      <th>8008</th>\n",
       "      <td>22047498</td>\n",
       "      <td>4.09</td>\n",
       "      <td>false</td>\n",
       "      <td>82</td>\n",
       "      <td></td>\n",
       "      <td>20</td>\n",
       "      <td>en-US</td>\n",
       "    </tr>\n",
       "    <tr>\n",
       "      <th>11253</th>\n",
       "      <td>1570130</td>\n",
       "      <td>4.50</td>\n",
       "      <td>false</td>\n",
       "      <td>63</td>\n",
       "      <td>1999</td>\n",
       "      <td>10</td>\n",
       "      <td></td>\n",
       "    </tr>\n",
       "    <tr>\n",
       "      <th>6403</th>\n",
       "      <td>150251</td>\n",
       "      <td>4.28</td>\n",
       "      <td>false</td>\n",
       "      <td>260</td>\n",
       "      <td>2000</td>\n",
       "      <td>1570</td>\n",
       "      <td>en-US</td>\n",
       "    </tr>\n",
       "    <tr>\n",
       "      <th>17908</th>\n",
       "      <td>18775905</td>\n",
       "      <td>4.00</td>\n",
       "      <td>true</td>\n",
       "      <td>110</td>\n",
       "      <td>2013</td>\n",
       "      <td>1</td>\n",
       "      <td>eng</td>\n",
       "    </tr>\n",
       "  </tbody>\n",
       "</table>\n",
       "</div>"
      ],
      "text/plain": [
       "        book_id  average_rating is_ebook num_pages publication_year  \\\n",
       "21845   1429465            4.09    false        87             2004   \n",
       "8008   22047498            4.09    false        82                    \n",
       "11253   1570130            4.50    false        63             1999   \n",
       "6403     150251            4.28    false       260             2000   \n",
       "17908  18775905            4.00     true       110             2013   \n",
       "\n",
       "       ratings_count language_code  \n",
       "21845             22                \n",
       "8008              20         en-US  \n",
       "11253             10                \n",
       "6403            1570         en-US  \n",
       "17908              1           eng  "
      ]
     },
     "execution_count": 8,
     "metadata": {},
     "output_type": "execute_result"
    }
   ],
   "source": [
    "# Limit the books metadata to selected fields\n",
    "books_metadata_selected = books_metadata[['book_id', 'average_rating', 'is_ebook', 'num_pages', \n",
    "                                          'publication_year', 'ratings_count', 'language_code']]\n",
    "books_metadata_selected.sample(5)"
   ]
  },
  {
   "cell_type": "code",
   "execution_count": 9,
   "metadata": {
    "ExecuteTime": {
     "end_time": "2021-02-09T21:13:24.251591Z",
     "start_time": "2021-02-09T21:13:20.071914Z"
    }
   },
   "outputs": [],
   "source": [
    "import pandas_profiling\n",
    "import numpy as np\n",
    "\n",
    "# replace blank cells with NaN\n",
    "books_metadata_selected.replace('', np.nan, inplace=True)\n",
    "\n",
    "# not taking book_id into the profiler report\n",
    "# profile = pandas_profiling.ProfileReport(books_metadata_selected[['average_rating', 'is_ebook', 'num_pages', \n",
    "#                                                                   'publication_year', 'ratings_count']])\n",
    "# profile.to_file('./RecommenderModel/results/profiler_books_metadata_1.html')"
   ]
  },
  {
   "cell_type": "code",
   "execution_count": 10,
   "metadata": {
    "ExecuteTime": {
     "end_time": "2021-02-09T21:13:24.313753Z",
     "start_time": "2021-02-09T21:13:24.258590Z"
    }
   },
   "outputs": [
    {
     "data": {
      "text/html": [
       "<div>\n",
       "<style scoped>\n",
       "    .dataframe tbody tr th:only-of-type {\n",
       "        vertical-align: middle;\n",
       "    }\n",
       "\n",
       "    .dataframe tbody tr th {\n",
       "        vertical-align: top;\n",
       "    }\n",
       "\n",
       "    .dataframe thead th {\n",
       "        text-align: right;\n",
       "    }\n",
       "</style>\n",
       "<table border=\"1\" class=\"dataframe\">\n",
       "  <thead>\n",
       "    <tr style=\"text-align: right;\">\n",
       "      <th></th>\n",
       "      <th>book_id</th>\n",
       "      <th>average_rating</th>\n",
       "      <th>is_ebook</th>\n",
       "      <th>num_pages</th>\n",
       "      <th>publication_year</th>\n",
       "      <th>ratings_count</th>\n",
       "      <th>language_code</th>\n",
       "    </tr>\n",
       "  </thead>\n",
       "  <tbody>\n",
       "    <tr>\n",
       "      <th>0</th>\n",
       "      <td>16037549</td>\n",
       "      <td>3.83</td>\n",
       "      <td>false</td>\n",
       "      <td>80</td>\n",
       "      <td>1887</td>\n",
       "      <td>3</td>\n",
       "      <td>eng</td>\n",
       "    </tr>\n",
       "    <tr>\n",
       "      <th>1</th>\n",
       "      <td>22466716</td>\n",
       "      <td>3.83</td>\n",
       "      <td>false</td>\n",
       "      <td>128</td>\n",
       "      <td>2015</td>\n",
       "      <td>37</td>\n",
       "      <td>NaN</td>\n",
       "    </tr>\n",
       "    <tr>\n",
       "      <th>2</th>\n",
       "      <td>926662</td>\n",
       "      <td>4.38</td>\n",
       "      <td>false</td>\n",
       "      <td>NaN</td>\n",
       "      <td>2008</td>\n",
       "      <td>45</td>\n",
       "      <td>NaN</td>\n",
       "    </tr>\n",
       "    <tr>\n",
       "      <th>3</th>\n",
       "      <td>926667</td>\n",
       "      <td>3.71</td>\n",
       "      <td>false</td>\n",
       "      <td>190</td>\n",
       "      <td>1964</td>\n",
       "      <td>115</td>\n",
       "      <td>NaN</td>\n",
       "    </tr>\n",
       "    <tr>\n",
       "      <th>4</th>\n",
       "      <td>29065952</td>\n",
       "      <td>5.00</td>\n",
       "      <td>false</td>\n",
       "      <td>118</td>\n",
       "      <td>2015</td>\n",
       "      <td>9</td>\n",
       "      <td>eng</td>\n",
       "    </tr>\n",
       "  </tbody>\n",
       "</table>\n",
       "</div>"
      ],
      "text/plain": [
       "    book_id  average_rating is_ebook num_pages publication_year  \\\n",
       "0  16037549            3.83    false        80             1887   \n",
       "1  22466716            3.83    false       128             2015   \n",
       "2    926662            4.38    false       NaN             2008   \n",
       "3    926667            3.71    false       190             1964   \n",
       "4  29065952            5.00    false       118             2015   \n",
       "\n",
       "   ratings_count language_code  \n",
       "0              3           eng  \n",
       "1             37           NaN  \n",
       "2             45           NaN  \n",
       "3            115           NaN  \n",
       "4              9           eng  "
      ]
     },
     "execution_count": 10,
     "metadata": {},
     "output_type": "execute_result"
    }
   ],
   "source": [
    "books_metadata_selected.head()"
   ]
  },
  {
   "cell_type": "code",
   "execution_count": 11,
   "metadata": {
    "ExecuteTime": {
     "end_time": "2021-02-09T21:13:33.630998Z",
     "start_time": "2021-02-09T21:13:33.474011Z"
    }
   },
   "outputs": [],
   "source": [
    "books_metadata_selected.to_csv('books_metadata.csv')\n"
   ]
  },
  {
   "cell_type": "code",
   "execution_count": null,
   "metadata": {
    "ExecuteTime": {
     "end_time": "2021-02-09T21:11:37.953830Z",
     "start_time": "2021-02-09T21:11:37.728148Z"
    }
   },
   "outputs": [],
   "source": [
    "# using pandas cut method to convert fields into discrete intervals\n",
    "books_metadata_selected['num_pages'].replace(np.nan, -1, inplace=True)\n",
    "books_metadata_selected['num_pages'] = pd.to_numeric(books_metadata_selected['num_pages'])\n",
    "books_metadata_selected['num_pages'] = pd.cut(books_metadata_selected['num_pages'], bins=25)\n",
    "\n",
    "# rounding ratings to neares .5 score\n",
    "books_metadata_selected['average_rating'] = books_metadata_selected['average_rating'].apply(lambda x: round(x*2)/2)\n",
    "\n",
    "# using pandas qcut method to convert fields into quantile-based discrete intervals\n",
    "books_metadata_selected['ratings_count'] = pd.qcut(books_metadata_selected['ratings_count'], 25)\n",
    "\n",
    "# replacing missing values to year 2100\n",
    "books_metadata_selected['publication_year'].replace(np.nan, 2100, inplace=True)\n",
    "\n",
    "# replacing missing values to 'unknown'\n",
    "books_metadata_selected['language_code'].replace(np.nan, 'unknown', inplace=True)\n",
    "\n",
    "\n",
    "# convert is_ebook column into 1/0 where true=1 and false=0\n",
    "books_metadata_selected['is_ebook'] = books_metadata_selected.is_ebook.map(\n",
    "    lambda x: 1.0*(x == 'true'))"
   ]
  },
  {
   "cell_type": "code",
   "execution_count": null,
   "metadata": {
    "ExecuteTime": {
     "end_time": "2021-02-09T20:42:40.251133Z",
     "start_time": "2021-02-09T20:42:40.220108Z"
    }
   },
   "outputs": [],
   "source": [
    "books_metadata_selected.head()\n",
    "# profile = pandas_profiling.ProfileReport(books_metadata_selected[['average_rating', 'is_ebook', 'num_pages', \n",
    "#                                                         'publication_year', 'ratings_count']])\n",
    "# profile.to_file('./RecommenderModel/results/profiler_books_metadata_2.html')"
   ]
  },
  {
   "cell_type": "code",
   "execution_count": 12,
   "metadata": {
    "ExecuteTime": {
     "end_time": "2021-02-09T21:13:59.854360Z",
     "start_time": "2021-02-09T21:13:59.709547Z"
    }
   },
   "outputs": [
    {
     "data": {
      "text/plain": [
       "array(['user_id', 'book_id', 'review_id', 'is_read', 'rating',\n",
       "       'review_text_incomplete', 'date_added', 'date_updated', 'read_at',\n",
       "       'started_at'], dtype=object)"
      ]
     },
     "execution_count": 12,
     "metadata": {},
     "output_type": "execute_result"
    },
    {
     "data": {
      "text/html": [
       "<div>\n",
       "<style scoped>\n",
       "    .dataframe tbody tr th:only-of-type {\n",
       "        vertical-align: middle;\n",
       "    }\n",
       "\n",
       "    .dataframe tbody tr th {\n",
       "        vertical-align: top;\n",
       "    }\n",
       "\n",
       "    .dataframe thead th {\n",
       "        text-align: right;\n",
       "    }\n",
       "</style>\n",
       "<table border=\"1\" class=\"dataframe\">\n",
       "  <thead>\n",
       "    <tr style=\"text-align: right;\">\n",
       "      <th></th>\n",
       "      <th>user_id</th>\n",
       "      <th>book_id</th>\n",
       "      <th>review_id</th>\n",
       "      <th>is_read</th>\n",
       "      <th>rating</th>\n",
       "      <th>review_text_incomplete</th>\n",
       "      <th>date_added</th>\n",
       "      <th>date_updated</th>\n",
       "      <th>read_at</th>\n",
       "      <th>started_at</th>\n",
       "    </tr>\n",
       "  </thead>\n",
       "  <tbody>\n",
       "    <tr>\n",
       "      <th>679725</th>\n",
       "      <td>ad49333737d28c4069a325773587534b</td>\n",
       "      <td>17937655</td>\n",
       "      <td>2d53bbb230d536f52228dd64162a0a26</td>\n",
       "      <td>False</td>\n",
       "      <td>0</td>\n",
       "      <td></td>\n",
       "      <td>Sun Jan 05 12:15:59 -0800 2014</td>\n",
       "      <td>Sun Jan 05 12:15:59 -0800 2014</td>\n",
       "      <td></td>\n",
       "      <td></td>\n",
       "    </tr>\n",
       "    <tr>\n",
       "      <th>158171</th>\n",
       "      <td>3f35f6a56868e0c1e1659a7547d932b5</td>\n",
       "      <td>27494</td>\n",
       "      <td>c5150fe64822f0ce932a15bb8cebb0d2</td>\n",
       "      <td>True</td>\n",
       "      <td>4</td>\n",
       "      <td>Date read is an educated guess. I quite enjoye...</td>\n",
       "      <td>Wed Dec 19 16:04:48 -0800 2007</td>\n",
       "      <td>Wed Dec 19 16:07:23 -0800 2007</td>\n",
       "      <td>Mon Feb 01 00:00:00 -0800 1999</td>\n",
       "      <td></td>\n",
       "    </tr>\n",
       "    <tr>\n",
       "      <th>2242131</th>\n",
       "      <td>5e9249908d98b966b58a29a42d2442cb</td>\n",
       "      <td>237794</td>\n",
       "      <td>7010ee5f68cb97cd5779f342fd5d91ee</td>\n",
       "      <td>True</td>\n",
       "      <td>3</td>\n",
       "      <td></td>\n",
       "      <td>Sat Feb 16 05:19:10 -0800 2013</td>\n",
       "      <td>Sat Feb 16 05:19:17 -0800 2013</td>\n",
       "      <td></td>\n",
       "      <td></td>\n",
       "    </tr>\n",
       "    <tr>\n",
       "      <th>2271807</th>\n",
       "      <td>957d6014f74b5176e1cab9240de8ecf6</td>\n",
       "      <td>146208</td>\n",
       "      <td>82c4356eaacfed5ac831665961425275</td>\n",
       "      <td>True</td>\n",
       "      <td>4</td>\n",
       "      <td></td>\n",
       "      <td>Wed Feb 20 19:16:52 -0800 2008</td>\n",
       "      <td>Wed Feb 20 19:16:52 -0800 2008</td>\n",
       "      <td></td>\n",
       "      <td></td>\n",
       "    </tr>\n",
       "    <tr>\n",
       "      <th>2484864</th>\n",
       "      <td>65c12e85653cdc59e0ec9728dba120fa</td>\n",
       "      <td>5867256</td>\n",
       "      <td>94324a8a605cb8ac9ace4647c1ba8d23</td>\n",
       "      <td>True</td>\n",
       "      <td>5</td>\n",
       "      <td></td>\n",
       "      <td>Mon Sep 02 12:58:35 -0700 2013</td>\n",
       "      <td>Mon Sep 02 12:58:49 -0700 2013</td>\n",
       "      <td>Mon Sep 02 12:58:49 -0700 2013</td>\n",
       "      <td></td>\n",
       "    </tr>\n",
       "  </tbody>\n",
       "</table>\n",
       "</div>"
      ],
      "text/plain": [
       "                                  user_id   book_id  \\\n",
       "679725   ad49333737d28c4069a325773587534b  17937655   \n",
       "158171   3f35f6a56868e0c1e1659a7547d932b5     27494   \n",
       "2242131  5e9249908d98b966b58a29a42d2442cb    237794   \n",
       "2271807  957d6014f74b5176e1cab9240de8ecf6    146208   \n",
       "2484864  65c12e85653cdc59e0ec9728dba120fa   5867256   \n",
       "\n",
       "                                review_id  is_read  rating  \\\n",
       "679725   2d53bbb230d536f52228dd64162a0a26    False       0   \n",
       "158171   c5150fe64822f0ce932a15bb8cebb0d2     True       4   \n",
       "2242131  7010ee5f68cb97cd5779f342fd5d91ee     True       3   \n",
       "2271807  82c4356eaacfed5ac831665961425275     True       4   \n",
       "2484864  94324a8a605cb8ac9ace4647c1ba8d23     True       5   \n",
       "\n",
       "                                    review_text_incomplete  \\\n",
       "679725                                                       \n",
       "158171   Date read is an educated guess. I quite enjoye...   \n",
       "2242131                                                      \n",
       "2271807                                                      \n",
       "2484864                                                      \n",
       "\n",
       "                             date_added                    date_updated  \\\n",
       "679725   Sun Jan 05 12:15:59 -0800 2014  Sun Jan 05 12:15:59 -0800 2014   \n",
       "158171   Wed Dec 19 16:04:48 -0800 2007  Wed Dec 19 16:07:23 -0800 2007   \n",
       "2242131  Sat Feb 16 05:19:10 -0800 2013  Sat Feb 16 05:19:17 -0800 2013   \n",
       "2271807  Wed Feb 20 19:16:52 -0800 2008  Wed Feb 20 19:16:52 -0800 2008   \n",
       "2484864  Mon Sep 02 12:58:35 -0700 2013  Mon Sep 02 12:58:49 -0700 2013   \n",
       "\n",
       "                                read_at started_at  \n",
       "679725                                              \n",
       "158171   Mon Feb 01 00:00:00 -0800 1999             \n",
       "2242131                                             \n",
       "2271807                                             \n",
       "2484864  Mon Sep 02 12:58:49 -0700 2013             "
      ]
     },
     "execution_count": 12,
     "metadata": {},
     "output_type": "execute_result"
    },
    {
     "data": {
      "text/plain": [
       "(2734350, 10)"
      ]
     },
     "execution_count": 12,
     "metadata": {},
     "output_type": "execute_result"
    }
   ],
   "source": [
    "interactions.columns.values\n",
    "interactions.sample(5)\n",
    "interactions.shape"
   ]
  },
  {
   "cell_type": "code",
   "execution_count": 20,
   "metadata": {
    "ExecuteTime": {
     "end_time": "2021-02-09T21:15:21.483366Z",
     "start_time": "2021-02-09T21:15:20.965784Z"
    }
   },
   "outputs": [
    {
     "data": {
      "text/html": [
       "<div>\n",
       "<style scoped>\n",
       "    .dataframe tbody tr th:only-of-type {\n",
       "        vertical-align: middle;\n",
       "    }\n",
       "\n",
       "    .dataframe tbody tr th {\n",
       "        vertical-align: top;\n",
       "    }\n",
       "\n",
       "    .dataframe thead th {\n",
       "        text-align: right;\n",
       "    }\n",
       "</style>\n",
       "<table border=\"1\" class=\"dataframe\">\n",
       "  <thead>\n",
       "    <tr style=\"text-align: right;\">\n",
       "      <th></th>\n",
       "      <th>user_id</th>\n",
       "      <th>book_id</th>\n",
       "      <th>is_read</th>\n",
       "      <th>rating</th>\n",
       "    </tr>\n",
       "  </thead>\n",
       "  <tbody>\n",
       "    <tr>\n",
       "      <th>696616</th>\n",
       "      <td>446a78a97c434dca98e7ea176ee9fa1f</td>\n",
       "      <td>13625561</td>\n",
       "      <td>false</td>\n",
       "      <td>0</td>\n",
       "    </tr>\n",
       "    <tr>\n",
       "      <th>2571022</th>\n",
       "      <td>d41507942f298d4a9fe5b42b9e573ff7</td>\n",
       "      <td>29863352</td>\n",
       "      <td>false</td>\n",
       "      <td>0</td>\n",
       "    </tr>\n",
       "    <tr>\n",
       "      <th>634577</th>\n",
       "      <td>12f917ba157de3ec0bef08acfce4d000</td>\n",
       "      <td>15855683</td>\n",
       "      <td>true</td>\n",
       "      <td>5</td>\n",
       "    </tr>\n",
       "    <tr>\n",
       "      <th>966821</th>\n",
       "      <td>73a277acf8817f12f5a0d23ffba0b311</td>\n",
       "      <td>3322992</td>\n",
       "      <td>true</td>\n",
       "      <td>4</td>\n",
       "    </tr>\n",
       "    <tr>\n",
       "      <th>2263290</th>\n",
       "      <td>08320c0f71fced731c3c886e5d2b38c0</td>\n",
       "      <td>23513349</td>\n",
       "      <td>true</td>\n",
       "      <td>4</td>\n",
       "    </tr>\n",
       "  </tbody>\n",
       "</table>\n",
       "</div>"
      ],
      "text/plain": [
       "                                  user_id   book_id is_read  rating\n",
       "696616   446a78a97c434dca98e7ea176ee9fa1f  13625561   false       0\n",
       "2571022  d41507942f298d4a9fe5b42b9e573ff7  29863352   false       0\n",
       "634577   12f917ba157de3ec0bef08acfce4d000  15855683    true       5\n",
       "966821   73a277acf8817f12f5a0d23ffba0b311   3322992    true       4\n",
       "2263290  08320c0f71fced731c3c886e5d2b38c0  23513349    true       4"
      ]
     },
     "execution_count": 20,
     "metadata": {},
     "output_type": "execute_result"
    }
   ],
   "source": [
    "\n",
    "# Limit the books metadata to selected fields\n",
    "interactions_selected = interactions[['user_id', 'book_id', 'is_read', 'rating']]\n",
    "\n",
    "# mapping boolean to string\n",
    "booleanDictionary = {True: 'true', False: 'false'}\n",
    "interactions_selected['is_read'] = interactions_selected['is_read'].replace(booleanDictionary)\n",
    "\n",
    "interactions_selected.sample(5)\n",
    "# profile = pandas_profiling.ProfileReport(interactions_selected[['is_read', 'rating']])\n",
    "# profile.to_file('./RecommenderModel/results/profiler_interactions.html')"
   ]
  },
  {
   "cell_type": "code",
   "execution_count": 21,
   "metadata": {
    "ExecuteTime": {
     "end_time": "2021-02-09T21:15:22.967351Z",
     "start_time": "2021-02-09T21:15:22.232280Z"
    }
   },
   "outputs": [
    {
     "data": {
      "text/html": [
       "<div>\n",
       "<style scoped>\n",
       "    .dataframe tbody tr th:only-of-type {\n",
       "        vertical-align: middle;\n",
       "    }\n",
       "\n",
       "    .dataframe tbody tr th {\n",
       "        vertical-align: top;\n",
       "    }\n",
       "\n",
       "    .dataframe thead th {\n",
       "        text-align: right;\n",
       "    }\n",
       "</style>\n",
       "<table border=\"1\" class=\"dataframe\">\n",
       "  <thead>\n",
       "    <tr style=\"text-align: right;\">\n",
       "      <th></th>\n",
       "      <th>user_id</th>\n",
       "      <th>book_id</th>\n",
       "      <th>is_read</th>\n",
       "      <th>rating</th>\n",
       "    </tr>\n",
       "  </thead>\n",
       "  <tbody>\n",
       "    <tr>\n",
       "      <th>2592636</th>\n",
       "      <td>1308b1cd9282e2fa86df9bc6d9713bf4</td>\n",
       "      <td>23780641</td>\n",
       "      <td>1.0</td>\n",
       "      <td>5</td>\n",
       "    </tr>\n",
       "    <tr>\n",
       "      <th>543221</th>\n",
       "      <td>bec52dcfb7218307476dec982ff9d76c</td>\n",
       "      <td>1246850</td>\n",
       "      <td>0.0</td>\n",
       "      <td>0</td>\n",
       "    </tr>\n",
       "    <tr>\n",
       "      <th>1194113</th>\n",
       "      <td>988f87d4afd617da6c592af77a730f1d</td>\n",
       "      <td>1381</td>\n",
       "      <td>0.0</td>\n",
       "      <td>0</td>\n",
       "    </tr>\n",
       "    <tr>\n",
       "      <th>70799</th>\n",
       "      <td>ac2824b924a7998b465850b610995657</td>\n",
       "      <td>35606560</td>\n",
       "      <td>0.0</td>\n",
       "      <td>0</td>\n",
       "    </tr>\n",
       "    <tr>\n",
       "      <th>1625575</th>\n",
       "      <td>339a20c85c9f0b5ae2b94a7c3f692f0d</td>\n",
       "      <td>47730</td>\n",
       "      <td>0.0</td>\n",
       "      <td>0</td>\n",
       "    </tr>\n",
       "    <tr>\n",
       "      <th>1377846</th>\n",
       "      <td>eae4ea576e19cc78f3ebfb1d628366ae</td>\n",
       "      <td>34714825</td>\n",
       "      <td>0.0</td>\n",
       "      <td>0</td>\n",
       "    </tr>\n",
       "    <tr>\n",
       "      <th>395985</th>\n",
       "      <td>e3555b1fc3f8d74964158c64eebb2d33</td>\n",
       "      <td>2547</td>\n",
       "      <td>0.0</td>\n",
       "      <td>0</td>\n",
       "    </tr>\n",
       "    <tr>\n",
       "      <th>2703259</th>\n",
       "      <td>fa45d06995de2cf72b9cf604328adf01</td>\n",
       "      <td>157985</td>\n",
       "      <td>1.0</td>\n",
       "      <td>5</td>\n",
       "    </tr>\n",
       "    <tr>\n",
       "      <th>1356421</th>\n",
       "      <td>7e2375c9fd9ecb137223189d428f9a62</td>\n",
       "      <td>146152</td>\n",
       "      <td>0.0</td>\n",
       "      <td>0</td>\n",
       "    </tr>\n",
       "    <tr>\n",
       "      <th>369195</th>\n",
       "      <td>362951a48642978f7ea95ac9e25a76ed</td>\n",
       "      <td>332226</td>\n",
       "      <td>0.0</td>\n",
       "      <td>0</td>\n",
       "    </tr>\n",
       "  </tbody>\n",
       "</table>\n",
       "</div>"
      ],
      "text/plain": [
       "                                  user_id   book_id  is_read  rating\n",
       "2592636  1308b1cd9282e2fa86df9bc6d9713bf4  23780641      1.0       5\n",
       "543221   bec52dcfb7218307476dec982ff9d76c   1246850      0.0       0\n",
       "1194113  988f87d4afd617da6c592af77a730f1d      1381      0.0       0\n",
       "70799    ac2824b924a7998b465850b610995657  35606560      0.0       0\n",
       "1625575  339a20c85c9f0b5ae2b94a7c3f692f0d     47730      0.0       0\n",
       "1377846  eae4ea576e19cc78f3ebfb1d628366ae  34714825      0.0       0\n",
       "395985   e3555b1fc3f8d74964158c64eebb2d33      2547      0.0       0\n",
       "2703259  fa45d06995de2cf72b9cf604328adf01    157985      1.0       5\n",
       "1356421  7e2375c9fd9ecb137223189d428f9a62    146152      0.0       0\n",
       "369195   362951a48642978f7ea95ac9e25a76ed    332226      0.0       0"
      ]
     },
     "execution_count": 21,
     "metadata": {},
     "output_type": "execute_result"
    }
   ],
   "source": [
    "# convert is_read column into 1/0 where true=1 and false=0\n",
    "interactions_selected['is_read'] = interactions_selected.is_read.map(\n",
    "    lambda x: 1.0*(x == 'true'))\n",
    "interactions_selected.sample(10)"
   ]
  },
  {
   "cell_type": "code",
   "execution_count": 22,
   "metadata": {
    "ExecuteTime": {
     "end_time": "2021-02-09T21:15:23.902331Z",
     "start_time": "2021-02-09T21:15:23.712568Z"
    }
   },
   "outputs": [
    {
     "data": {
      "text/html": [
       "<div>\n",
       "<style scoped>\n",
       "    .dataframe tbody tr th:only-of-type {\n",
       "        vertical-align: middle;\n",
       "    }\n",
       "\n",
       "    .dataframe tbody tr th {\n",
       "        vertical-align: top;\n",
       "    }\n",
       "\n",
       "    .dataframe thead th {\n",
       "        text-align: right;\n",
       "    }\n",
       "</style>\n",
       "<table border=\"1\" class=\"dataframe\">\n",
       "  <thead>\n",
       "    <tr style=\"text-align: right;\">\n",
       "      <th>rating</th>\n",
       "      <th>0</th>\n",
       "      <th>1</th>\n",
       "      <th>2</th>\n",
       "      <th>3</th>\n",
       "      <th>4</th>\n",
       "      <th>5</th>\n",
       "    </tr>\n",
       "    <tr>\n",
       "      <th>is_read</th>\n",
       "      <th></th>\n",
       "      <th></th>\n",
       "      <th></th>\n",
       "      <th></th>\n",
       "      <th></th>\n",
       "      <th></th>\n",
       "    </tr>\n",
       "  </thead>\n",
       "  <tbody>\n",
       "    <tr>\n",
       "      <th>0.0</th>\n",
       "      <td>1420740.0</td>\n",
       "      <td>NaN</td>\n",
       "      <td>NaN</td>\n",
       "      <td>NaN</td>\n",
       "      <td>NaN</td>\n",
       "      <td>NaN</td>\n",
       "    </tr>\n",
       "    <tr>\n",
       "      <th>1.0</th>\n",
       "      <td>84551.0</td>\n",
       "      <td>20497.0</td>\n",
       "      <td>64084.0</td>\n",
       "      <td>237942.0</td>\n",
       "      <td>405565.0</td>\n",
       "      <td>500971.0</td>\n",
       "    </tr>\n",
       "  </tbody>\n",
       "</table>\n",
       "</div>"
      ],
      "text/plain": [
       "rating           0        1        2         3         4         5\n",
       "is_read                                                           \n",
       "0.0      1420740.0      NaN      NaN       NaN       NaN       NaN\n",
       "1.0        84551.0  20497.0  64084.0  237942.0  405565.0  500971.0"
      ]
     },
     "execution_count": 22,
     "metadata": {},
     "output_type": "execute_result"
    }
   ],
   "source": [
    "interactions_selected.groupby(['rating', 'is_read']).size().reset_index().pivot(columns='rating', index='is_read', values=0)"
   ]
  },
  {
   "cell_type": "code",
   "execution_count": 23,
   "metadata": {
    "ExecuteTime": {
     "end_time": "2021-02-09T21:15:33.602299Z",
     "start_time": "2021-02-09T21:15:32.988059Z"
    }
   },
   "outputs": [
    {
     "data": {
      "text/html": [
       "<div>\n",
       "<style scoped>\n",
       "    .dataframe tbody tr th:only-of-type {\n",
       "        vertical-align: middle;\n",
       "    }\n",
       "\n",
       "    .dataframe tbody tr th {\n",
       "        vertical-align: top;\n",
       "    }\n",
       "\n",
       "    .dataframe thead th {\n",
       "        text-align: right;\n",
       "    }\n",
       "</style>\n",
       "<table border=\"1\" class=\"dataframe\">\n",
       "  <thead>\n",
       "    <tr style=\"text-align: right;\">\n",
       "      <th></th>\n",
       "      <th>user_id</th>\n",
       "      <th>book_id</th>\n",
       "      <th>rating</th>\n",
       "    </tr>\n",
       "  </thead>\n",
       "  <tbody>\n",
       "    <tr>\n",
       "      <th>612187</th>\n",
       "      <td>a223e258f11871ac0fd2761c1777b07e</td>\n",
       "      <td>1383945</td>\n",
       "      <td>5</td>\n",
       "    </tr>\n",
       "    <tr>\n",
       "      <th>1350730</th>\n",
       "      <td>73c0df56edf216dd642dab26bcdecbd8</td>\n",
       "      <td>27822</td>\n",
       "      <td>5</td>\n",
       "    </tr>\n",
       "    <tr>\n",
       "      <th>1165094</th>\n",
       "      <td>13a6a4a45aed2d1fac8be1922c4ed390</td>\n",
       "      <td>780534</td>\n",
       "      <td>5</td>\n",
       "    </tr>\n",
       "    <tr>\n",
       "      <th>57945</th>\n",
       "      <td>1489911bb792e073cf8edf37bdb683ac</td>\n",
       "      <td>31435158</td>\n",
       "      <td>4</td>\n",
       "    </tr>\n",
       "    <tr>\n",
       "      <th>936537</th>\n",
       "      <td>72e3c14956b032cdb62fd1ff58cfd413</td>\n",
       "      <td>763426</td>\n",
       "      <td>3</td>\n",
       "    </tr>\n",
       "    <tr>\n",
       "      <th>2472485</th>\n",
       "      <td>271774ce7b882ae1445b659e18409e07</td>\n",
       "      <td>30118</td>\n",
       "      <td>4</td>\n",
       "    </tr>\n",
       "    <tr>\n",
       "      <th>1956676</th>\n",
       "      <td>89665f0397305dc80464671f91a99153</td>\n",
       "      <td>30341619</td>\n",
       "      <td>0</td>\n",
       "    </tr>\n",
       "    <tr>\n",
       "      <th>1562955</th>\n",
       "      <td>4d290e2a85b00448c24445b49fbcc64b</td>\n",
       "      <td>1384</td>\n",
       "      <td>2</td>\n",
       "    </tr>\n",
       "    <tr>\n",
       "      <th>737536</th>\n",
       "      <td>cf1caea8983d0cd0d9d49c7a7e866a6e</td>\n",
       "      <td>618944</td>\n",
       "      <td>3</td>\n",
       "    </tr>\n",
       "    <tr>\n",
       "      <th>132001</th>\n",
       "      <td>d7d78c3e0bf6bba1e619e55ae148acf0</td>\n",
       "      <td>22375630</td>\n",
       "      <td>5</td>\n",
       "    </tr>\n",
       "  </tbody>\n",
       "</table>\n",
       "</div>"
      ],
      "text/plain": [
       "                                  user_id   book_id  rating\n",
       "612187   a223e258f11871ac0fd2761c1777b07e   1383945       5\n",
       "1350730  73c0df56edf216dd642dab26bcdecbd8     27822       5\n",
       "1165094  13a6a4a45aed2d1fac8be1922c4ed390    780534       5\n",
       "57945    1489911bb792e073cf8edf37bdb683ac  31435158       4\n",
       "936537   72e3c14956b032cdb62fd1ff58cfd413    763426       3\n",
       "2472485  271774ce7b882ae1445b659e18409e07     30118       4\n",
       "1956676  89665f0397305dc80464671f91a99153  30341619       0\n",
       "1562955  4d290e2a85b00448c24445b49fbcc64b      1384       2\n",
       "737536   cf1caea8983d0cd0d9d49c7a7e866a6e    618944       3\n",
       "132001   d7d78c3e0bf6bba1e619e55ae148acf0  22375630       5"
      ]
     },
     "execution_count": 23,
     "metadata": {},
     "output_type": "execute_result"
    }
   ],
   "source": [
    "\n",
    "import random\n",
    "\n",
    "interactions_selected = interactions_selected.loc[interactions_selected['is_read']==1, ['user_id', 'book_id', 'rating']]\n",
    "\n",
    "interactions_selected = interactions_selected[interactions_selected['user_id'].isin(random.sample(list(interactions_selected['user_id'].unique()), \n",
    "                                                                                                  k=1000))]\n",
    "\n",
    "interactions_selected.sample(10)"
   ]
  },
  {
   "cell_type": "code",
   "execution_count": 24,
   "metadata": {
    "ExecuteTime": {
     "end_time": "2021-02-09T21:15:36.422432Z",
     "start_time": "2021-02-09T21:15:36.410564Z"
    }
   },
   "outputs": [
    {
     "data": {
      "text/plain": [
       "(4529, 3)"
      ]
     },
     "execution_count": 24,
     "metadata": {},
     "output_type": "execute_result"
    }
   ],
   "source": [
    "interactions_selected.shape"
   ]
  },
  {
   "cell_type": "code",
   "execution_count": 25,
   "metadata": {
    "ExecuteTime": {
     "end_time": "2021-02-09T21:15:41.354602Z",
     "start_time": "2021-02-09T21:15:41.315490Z"
    }
   },
   "outputs": [],
   "source": [
    "interactions_selected.to_csv('interactions.csv')"
   ]
  },
  {
   "cell_type": "code",
   "execution_count": null,
   "metadata": {
    "ExecuteTime": {
     "end_time": "2021-02-09T20:42:46.855952Z",
     "start_time": "2021-02-09T20:42:46.305352Z"
    }
   },
   "outputs": [],
   "source": [
    "item_dict ={}\n",
    "df = books_metadata[['book_id', 'title']].sort_values('book_id').reset_index()\n",
    "\n",
    "for i in range(df.shape[0]):\n",
    "    item_dict[(df.loc[i,'book_id'])] = df.loc[i,'title']"
   ]
  },
  {
   "cell_type": "code",
   "execution_count": null,
   "metadata": {
    "ExecuteTime": {
     "end_time": "2021-02-09T20:42:47.119803Z",
     "start_time": "2021-02-09T20:42:47.067623Z"
    }
   },
   "outputs": [],
   "source": [
    "item_dict"
   ]
  },
  {
   "cell_type": "code",
   "execution_count": null,
   "metadata": {
    "ExecuteTime": {
     "end_time": "2021-02-09T20:42:47.872497Z",
     "start_time": "2021-02-09T20:42:47.843876Z"
    }
   },
   "outputs": [],
   "source": [
    "books_metadata_selected.head(5)"
   ]
  },
  {
   "cell_type": "code",
   "execution_count": null,
   "metadata": {
    "ExecuteTime": {
     "end_time": "2021-02-09T20:42:49.564561Z",
     "start_time": "2021-02-09T20:42:48.673114Z"
    }
   },
   "outputs": [],
   "source": [
    "# dummify categorical features\n",
    "books_metadata_selected_transformed = pd.get_dummies(books_metadata_selected, columns = ['average_rating', 'is_ebook', 'num_pages', \n",
    "                                                                                         'publication_year', 'ratings_count', \n",
    "                                                                                         'language_code'])\n",
    "\n",
    "books_metadata_selected_transformed = books_metadata_selected_transformed.sort_values('book_id').reset_index().drop('index', axis=1)\n",
    "books_metadata_selected_transformed.head(5)\n",
    "books_metadata_selected_transformed.describe(include=\"all\")\n",
    "books_metadata_selected_transformed.publication_year_1887.head()"
   ]
  },
  {
   "cell_type": "code",
   "execution_count": null,
   "metadata": {
    "ExecuteTime": {
     "end_time": "2021-02-09T20:42:50.917298Z",
     "start_time": "2021-02-09T20:42:50.707177Z"
    }
   },
   "outputs": [],
   "source": [
    "\n",
    "# convert to csr matrix\n",
    "books_metadata_csr = csr_matrix(books_metadata_selected_transformed.drop('book_id', axis=1).values)\n",
    "books_metadata_csr"
   ]
  },
  {
   "cell_type": "code",
   "execution_count": null,
   "metadata": {
    "ExecuteTime": {
     "end_time": "2021-02-09T20:42:58.816329Z",
     "start_time": "2021-02-09T20:42:58.689920Z"
    }
   },
   "outputs": [],
   "source": [
    "user_book_interaction = pd.pivot_table(interactions_selected, index='user_id', columns='book_id', values='rating')\n",
    "\n",
    "# fill missing values with 0\n",
    "user_book_interaction = user_book_interaction.fillna(0)\n",
    "\n",
    "user_book_interaction.head(10)"
   ]
  },
  {
   "cell_type": "code",
   "execution_count": null,
   "metadata": {},
   "outputs": [],
   "source": []
  },
  {
   "cell_type": "code",
   "execution_count": null,
   "metadata": {},
   "outputs": [],
   "source": []
  }
 ],
 "metadata": {
  "kernelspec": {
   "display_name": "Python 3",
   "language": "python",
   "name": "python3"
  },
  "language_info": {
   "codemirror_mode": {
    "name": "ipython",
    "version": 3
   },
   "file_extension": ".py",
   "mimetype": "text/x-python",
   "name": "python",
   "nbconvert_exporter": "python",
   "pygments_lexer": "ipython3",
   "version": "3.8.5"
  }
 },
 "nbformat": 4,
 "nbformat_minor": 4
}
